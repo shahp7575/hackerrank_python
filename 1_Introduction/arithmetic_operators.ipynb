{
 "cells": [
  {
   "cell_type": "code",
   "execution_count": 3,
   "metadata": {},
   "outputs": [
    {
     "name": "stdout",
     "output_type": "stream",
     "text": [
      "4\n",
      "10\n",
      "\n",
      "14\n",
      "-6\n",
      "40\n"
     ]
    }
   ],
   "source": [
    "# if __name__ == '__main__':\n",
    "a = int(input())\n",
    "b = int(input())\n",
    "    \n",
    "total = a + b\n",
    "diff = a - b\n",
    "mul = a * b\n",
    "\n",
    "print(\"\")\n",
    "print(total)\n",
    "print(diff)\n",
    "print(mul)"
   ]
  }
 ],
 "metadata": {
  "kernelspec": {
   "display_name": "Python 3",
   "language": "python",
   "name": "python3"
  },
  "language_info": {
   "codemirror_mode": {
    "name": "ipython",
    "version": 3
   },
   "file_extension": ".py",
   "mimetype": "text/x-python",
   "name": "python",
   "nbconvert_exporter": "python",
   "pygments_lexer": "ipython3",
   "version": "3.6.1"
  }
 },
 "nbformat": 4,
 "nbformat_minor": 2
}
